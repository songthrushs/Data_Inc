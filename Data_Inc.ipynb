{
 "cells": [
  {
   "cell_type": "code",
   "execution_count": 1,
   "metadata": {},
   "outputs": [],
   "source": [
    "import pandas as pd\n",
    "import numpy as np\n",
    "import matplotlib.pyplot as plt\n",
    "%matplotlib inline"
   ]
  },
  {
   "cell_type": "code",
   "execution_count": 2,
   "metadata": {},
   "outputs": [],
   "source": [
    "df_2017 = pd.read_csv('PartD_Prescriber_PUF_NPI_17.txt', sep='\\t')"
   ]
  },
  {
   "cell_type": "code",
   "execution_count": 3,
   "metadata": {},
   "outputs": [],
   "source": [
    "df_2016 = pd.read_csv('PartD_Prescriber_PUF_NPI_16.txt', sep='\\t')"
   ]
  },
  {
   "cell_type": "code",
   "execution_count": 4,
   "metadata": {},
   "outputs": [],
   "source": [
    "pd.set_option('display.max_columns', None)\n",
    "pd.set_option('display.max_rows', 30)"
   ]
  },
  {
   "cell_type": "markdown",
   "metadata": {},
   "source": [
    "### Q1 - Average number of beneficiaries per provider"
   ]
  },
  {
   "cell_type": "code",
   "execution_count": 5,
   "metadata": {},
   "outputs": [
    {
     "data": {
      "text/plain": [
       "158.3494585173676"
      ]
     },
     "execution_count": 5,
     "metadata": {},
     "output_type": "execute_result"
    }
   ],
   "source": [
    "df_2017['bene_count'].mean()"
   ]
  },
  {
   "cell_type": "code",
   "execution_count": 6,
   "metadata": {},
   "outputs": [],
   "source": [
    "from scipy.special import perm\n",
    "from itertools import permutations\n",
    "import pandas as pd\n",
    "import numpy as np"
   ]
  },
  {
   "cell_type": "code",
   "execution_count": 7,
   "metadata": {},
   "outputs": [],
   "source": [
    "n=10\n",
    "x = pd.DataFrame(list(permutations(range(1,n+1))))"
   ]
  },
  {
   "cell_type": "code",
   "execution_count": 8,
   "metadata": {},
   "outputs": [
    {
     "data": {
      "text/plain": [
       "38.5"
      ]
     },
     "execution_count": 8,
     "metadata": {},
     "output_type": "execute_result"
    }
   ],
   "source": [
    "np.abs(x.diff(axis=1)).fillna(x).sum(axis=1).mean()"
   ]
  },
  {
   "cell_type": "code",
   "execution_count": 9,
   "metadata": {},
   "outputs": [
    {
     "data": {
      "text/plain": [
       "6.365271230040156"
      ]
     },
     "execution_count": 9,
     "metadata": {},
     "output_type": "execute_result"
    }
   ],
   "source": [
    "np.abs(x.diff(axis=1)).fillna(x).sum(axis=1).std()"
   ]
  },
  {
   "cell_type": "markdown",
   "metadata": {},
   "source": [
    "### Q2 - Standard deviation of brand_name drug claims for each specialty"
   ]
  },
  {
   "cell_type": "code",
   "execution_count": 10,
   "metadata": {},
   "outputs": [
    {
     "data": {
      "text/plain": [
       "0.09167625392960191"
      ]
     },
     "execution_count": 10,
     "metadata": {},
     "output_type": "execute_result"
    }
   ],
   "source": [
    "df1 = df_2017.groupby(['specialty_description'])['brand_claim_count','total_claim_count'].sum()\n",
    "df1 = df1[df1['total_claim_count']>=1000]\n",
    "df1['fraction_claim_count'] = df1['brand_claim_count']/df1['total_claim_count']\n",
    "df1['fraction_claim_count'].std()"
   ]
  },
  {
   "cell_type": "code",
   "execution_count": 11,
   "metadata": {},
   "outputs": [],
   "source": [
    "#  df1 = df.groupby(['specialty_description'])['brand_claim_count','total_claim_count'].sum()\\\n",
    "# .pipe(lambda df1: df1[df1['total_claim_count']>=1000])\\\n",
    "# .assign(fraction_claim_count=lambda df1: df1['brand_claim_count']/df1['total_claim_count'] )"
   ]
  },
  {
   "cell_type": "markdown",
   "metadata": {},
   "source": [
    "### Q3 - Ratio of high supply of opioids contitioned on specialty"
   ]
  },
  {
   "cell_type": "code",
   "execution_count": 12,
   "metadata": {},
   "outputs": [],
   "source": [
    "df_2017['ratio_op'] = df_2017['opioid_day_supply'] / df_2017['opioid_claim_count']\n",
    "df_state_based=df_2017.groupby(['nppes_provider_state','specialty_description'])['ratio_op'].agg(['mean','count'])\\\n",
    ".pipe(lambda x:x[x['count']>=100])"
   ]
  },
  {
   "cell_type": "markdown",
   "metadata": {},
   "source": [
    "### Q4 -Median of Distribution"
   ]
  },
  {
   "cell_type": "code",
   "execution_count": 13,
   "metadata": {},
   "outputs": [
    {
     "data": {
      "text/plain": [
       "29.7125748502994"
      ]
     },
     "execution_count": 13,
     "metadata": {},
     "output_type": "execute_result"
    }
   ],
   "source": [
    "df_2017['day_claim_ratio'] = df_2017['total_day_supply'] / df_2017['total_claim_count']\n",
    "df_2017['day_claim_ratio'].median()"
   ]
  },
  {
   "cell_type": "code",
   "execution_count": 14,
   "metadata": {},
   "outputs": [],
   "source": [
    "df_spec_based = df_2017.groupby(['specialty_description'])['ratio_op'].agg(['mean','count'])\\\n",
    ".pipe(lambda x:x[x['count']>=100])"
   ]
  },
  {
   "cell_type": "code",
   "execution_count": 15,
   "metadata": {},
   "outputs": [
    {
     "data": {
      "text/plain": [
       "max    1.485173\n",
       "Name: mean, dtype: float64"
      ]
     },
     "execution_count": 15,
     "metadata": {},
     "output_type": "execute_result"
    }
   ],
   "source": [
    "(df_state_based / df_spec_based)['mean'].agg(['max'])"
   ]
  },
  {
   "cell_type": "code",
   "execution_count": 16,
   "metadata": {},
   "outputs": [],
   "source": [
    "# df_state_based.join(df_spec_based,rsuffix='spec' ).assign(ratio=lambda x : x['mean']/x['meanspec'])"
   ]
  },
  {
   "cell_type": "markdown",
   "metadata": {},
   "source": [
    "### Q5 - Difference of max-min ratio of beneficiaries with opioid and antibiotics prescriptions"
   ]
  },
  {
   "cell_type": "code",
   "execution_count": 17,
   "metadata": {},
   "outputs": [
    {
     "data": {
      "text/plain": [
       "0.6331097230267027"
      ]
     },
     "execution_count": 17,
     "metadata": {},
     "output_type": "execute_result"
    }
   ],
   "source": [
    "df1 = df_2017.groupby(['nppes_provider_state'])['opioid_bene_count','antibiotic_bene_count'].sum()\n",
    "df1['ratio_opi_anti'] = df1['opioid_bene_count'] /df1['antibiotic_bene_count']\n",
    "df1['ratio_opi_anti'].max()-df1['ratio_opi_anti'].min()"
   ]
  },
  {
   "cell_type": "markdown",
   "metadata": {},
   "source": [
    "### Q6 - Pearson correlation"
   ]
  },
  {
   "cell_type": "code",
   "execution_count": 18,
   "metadata": {},
   "outputs": [],
   "source": [
    "from scipy.stats import pearsonr"
   ]
  },
  {
   "cell_type": "code",
   "execution_count": 19,
   "metadata": {},
   "outputs": [],
   "source": [
    "#df1['lis_claim_count'] = df['lis_claim_count']\n",
    "df1 = df_2017.filter(['lis_claim_count','total_claim_count_ge65'],axis=1)\n",
    "df1 =df1.dropna()"
   ]
  },
  {
   "cell_type": "code",
   "execution_count": 20,
   "metadata": {},
   "outputs": [
    {
     "name": "stdout",
     "output_type": "stream",
     "text": [
      "Pearsons correlation: 0.807\n"
     ]
    }
   ],
   "source": [
    "corr, _ = pearsonr(df1['lis_claim_count'], df1['total_claim_count_ge65'])\n",
    "print('Pearsons correlation: %.3f' % corr)"
   ]
  },
  {
   "cell_type": "markdown",
   "metadata": {},
   "source": [
    "### Q7 - Average inflation rate"
   ]
  },
  {
   "cell_type": "code",
   "execution_count": 21,
   "metadata": {},
   "outputs": [],
   "source": [
    "avg_2017 = (df_2017['total_drug_cost']/df_2017['total_day_supply']).mean()\n",
    "avg_2016 = (df_2016['total_drug_cost']/df_2016['total_day_supply']).mean()"
   ]
  },
  {
   "cell_type": "code",
   "execution_count": 22,
   "metadata": {},
   "outputs": [
    {
     "data": {
      "text/plain": [
       "0.00040248921840773554"
      ]
     },
     "execution_count": 22,
     "metadata": {},
     "output_type": "execute_result"
    }
   ],
   "source": [
    "(avg_2017-avg_2016)/100"
   ]
  },
  {
   "cell_type": "markdown",
   "metadata": {},
   "source": [
    "### Q8"
   ]
  },
  {
   "cell_type": "code",
   "execution_count": 23,
   "metadata": {},
   "outputs": [
    {
     "data": {
      "text/plain": [
       "mean        0.376866\n",
       "count    2680.000000\n",
       "Name: Orthopaedic Surgery, dtype: float64"
      ]
     },
     "execution_count": 23,
     "metadata": {},
     "output_type": "execute_result"
    }
   ],
   "source": [
    "df_new = df_2016[['npi','specialty_description']].merge(\n",
    "    df_2017[['npi','specialty_description']].assign(k=1), how='left')\n",
    "\n",
    "df_new['k']=df_new['k'].isna()\n",
    "df_new.groupby(['specialty_description'])['k'].agg(['mean','count'])\\\n",
    ".pipe(lambda x: x[(x['count']>=1000) & (x['mean']<1)])\\\n",
    ".pipe(lambda x: x.loc[x['mean'].idxmax()])"
   ]
  },
  {
   "cell_type": "code",
   "execution_count": 24,
   "metadata": {},
   "outputs": [],
   "source": [
    "df_2017_spec = df_2017.groupby(['specialty_description'])['npi'].agg(['count'])\n",
    "df_2016_spec = df_2016.groupby(['specialty_description'])['npi'].agg(['count']).pipe(lambda x: x[x['count']>=1000])"
   ]
  },
  {
   "cell_type": "code",
   "execution_count": 25,
   "metadata": {},
   "outputs": [
    {
     "data": {
      "text/plain": [
       "count         137822.000000\n",
       "count_2017    153964.000000\n",
       "ratio              1.194629\n",
       "dtype: float64"
      ]
     },
     "execution_count": 25,
     "metadata": {},
     "output_type": "execute_result"
    }
   ],
   "source": [
    "df_2016_spec.join(df_2017_spec, rsuffix='_2017' ).assign(ratio=lambda x : x['count_2017']/x['count']).max()"
   ]
  }
 ],
 "metadata": {
  "kernelspec": {
   "display_name": "Python 3",
   "language": "python",
   "name": "python3"
  },
  "language_info": {
   "codemirror_mode": {
    "name": "ipython",
    "version": 3
   },
   "file_extension": ".py",
   "mimetype": "text/x-python",
   "name": "python",
   "nbconvert_exporter": "python",
   "pygments_lexer": "ipython3",
   "version": "3.7.4"
  }
 },
 "nbformat": 4,
 "nbformat_minor": 2
}
